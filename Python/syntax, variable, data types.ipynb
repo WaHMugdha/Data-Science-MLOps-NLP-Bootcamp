{
 "cells": [
  {
   "cell_type": "markdown",
   "metadata": {},
   "source": [
    "### Syntax and Semantics in Python"
   ]
  },
  {
   "cell_type": "markdown",
   "metadata": {},
   "source": [
    "Syntax -> set of rules that defines the combination of symbols that can be considered to be correctly structured programs in a language."
   ]
  },
  {
   "cell_type": "markdown",
   "metadata": {},
   "source": [
    "Semantics -> meaning/interpretation of symbols, char, commands in a language. What to to do when code runs"
   ]
  },
  {
   "cell_type": "markdown",
   "metadata": {},
   "source": [
    "Syntax Rules\n",
    "\n",
    "- Case sensitive\n",
    "- Indentation\n",
    "- Line continuation(using \\)\n",
    "- Multiple statements in 1 line separated using ; "
   ]
  },
  {
   "cell_type": "markdown",
   "metadata": {},
   "source": [
    "### Variable "
   ]
  },
  {
   "cell_type": "code",
   "execution_count": 1,
   "metadata": {},
   "outputs": [
    {
     "name": "stdout",
     "output_type": "stream",
     "text": [
      "age: 21\n",
      "height = 5.8\n"
     ]
    }
   ],
   "source": [
    "age = 21\n",
    "height = 5.8\n",
    "name = \"mugdha\"\n",
    "is_student = True\n",
    "\n",
    "print(\"age:\", age)\n",
    "print(f\"height = {height}\")"
   ]
  },
  {
   "cell_type": "code",
   "execution_count": 2,
   "metadata": {},
   "outputs": [
    {
     "name": "stdout",
     "output_type": "stream",
     "text": [
      "10 <class 'int'>\n",
      "hello <class 'str'>\n"
     ]
    }
   ],
   "source": [
    "#dynamic typing\n",
    "#python allows type of variable to change as the prog executes\n",
    "var = 10\n",
    "print(var, type(var))\n",
    "var = 'hello'\n",
    "print(var, type(var))"
   ]
  },
  {
   "cell_type": "markdown",
   "metadata": {},
   "source": [
    "### Data Types"
   ]
  },
  {
   "cell_type": "markdown",
   "metadata": {},
   "source": [
    "Basic data types\n",
    "- int\n",
    "- floating point\n",
    "- str\n",
    "- booleans\n",
    "\n",
    "Advanced data types\n",
    "- lists\n",
    "- tuples\n",
    "- sets\n",
    "- dictionaries"
   ]
  },
  {
   "cell_type": "code",
   "execution_count": 1,
   "metadata": {},
   "outputs": [
    {
     "name": "stdout",
     "output_type": "stream",
     "text": [
      "int =  1\n",
      "float =  1.1\n",
      "str =  hello\n",
      "bool =  True\n",
      "list =  [1, 4, 'hi']\n",
      "tuple =  (12, 11.1, 4)\n",
      "set =  {65, 3, 1, 22}\n",
      "dict =  {1: 1, 2: 2, 3: 3}\n"
     ]
    }
   ],
   "source": [
    "a = 1\n",
    "b = 1.1\n",
    "c = 'hello'\n",
    "d = True\n",
    "\n",
    "lst = [1, 4, 'hi']\n",
    "tpl = (12, 11.1, 4)\n",
    "set_1 = {1, 3, 65,22}\n",
    "dict = {1:1, 2:2, 3:3}\n",
    "\n",
    "print(\"int = \", a)\n",
    "print(\"float = \", b)\n",
    "print(\"str = \", c)\n",
    "print(\"bool = \", d)\n",
    "\n",
    "print(\"list = \", lst)\n",
    "print(\"tuple = \", tpl)\n",
    "print(\"set = \", set_1)\n",
    "print(\"dict = \", dict)"
   ]
  }
 ],
 "metadata": {
  "kernelspec": {
   "display_name": "Python 3",
   "language": "python",
   "name": "python3"
  },
  "language_info": {
   "codemirror_mode": {
    "name": "ipython",
    "version": 3
   },
   "file_extension": ".py",
   "mimetype": "text/x-python",
   "name": "python",
   "nbconvert_exporter": "python",
   "pygments_lexer": "ipython3",
   "version": "3.12.0"
  }
 },
 "nbformat": 4,
 "nbformat_minor": 2
}
