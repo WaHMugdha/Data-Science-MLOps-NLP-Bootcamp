{
 "cells": [
  {
   "cell_type": "markdown",
   "metadata": {},
   "source": [
    "### Conditional Statements"
   ]
  },
  {
   "cell_type": "markdown",
   "metadata": {},
   "source": [
    "- if\n",
    "- elif\n",
    "- else"
   ]
  },
  {
   "cell_type": "code",
   "execution_count": 1,
   "metadata": {},
   "outputs": [
    {
     "name": "stdout",
     "output_type": "stream",
     "text": [
      "python basics is a string\n"
     ]
    }
   ],
   "source": [
    "a = 'python basics'\n",
    "if isinstance(a, str):\n",
    "    print(f\"{a} is a string\")\n",
    "else:\n",
    "    print(f\"{a} is not a string\")"
   ]
  },
  {
   "cell_type": "code",
   "execution_count": 2,
   "metadata": {},
   "outputs": [
    {
     "name": "stdout",
     "output_type": "stream",
     "text": [
      "23 is the largest\n"
     ]
    }
   ],
   "source": [
    "a=12;b=23;c=-12\n",
    "\n",
    "if a>b and a>c:\n",
    "    print(f'{a} is the largest')\n",
    "elif c>b and c>a:\n",
    "    print(f'{c} is the largest')\n",
    "else:\n",
    "    print(f'{b} is the largest')"
   ]
  },
  {
   "cell_type": "code",
   "execution_count": 4,
   "metadata": {},
   "outputs": [
    {
     "name": "stdout",
     "output_type": "stream",
     "text": [
      "negative\n"
     ]
    }
   ],
   "source": [
    "#num -> even, odd, negative\n",
    "num = -100\n",
    "\n",
    "if num >= 0:\n",
    "    print(\"positive\")\n",
    "    if num%2==0:\n",
    "        print(\"even\")\n",
    "    else:\n",
    "        print(\"odd\")\n",
    "else:\n",
    "    print(\"negative\")"
   ]
  },
  {
   "cell_type": "code",
   "execution_count": 5,
   "metadata": {},
   "outputs": [
    {
     "name": "stdout",
     "output_type": "stream",
     "text": [
      "not\n"
     ]
    }
   ],
   "source": [
    "yr = int(input(\"enter yr: \"))\n",
    "\n",
    "if yr%4==0:\n",
    "    if yr%100==0:\n",
    "        if yr%400==0:\n",
    "            print('leap yr')\n",
    "        else:\n",
    "            print('not')\n",
    "    else:\n",
    "        print('leap yr')\n",
    "else:\n",
    "    print('not')\n",
    "            "
   ]
  },
  {
   "cell_type": "code",
   "execution_count": 6,
   "metadata": {},
   "outputs": [
    {
     "name": "stdout",
     "output_type": "stream",
     "text": [
      "2 ** 4 = 16\n"
     ]
    }
   ],
   "source": [
    "#simple calculator\n",
    "\n",
    "a = int(input('enter a num: '))\n",
    "b = int(input('enter a num: '))\n",
    "oper = input('enter a operation: ')\n",
    "\n",
    "if oper == '+':\n",
    "    print(f'{a} + {b} = {a+b}')\n",
    "elif oper == '-':\n",
    "    print(f'{a} - {b} = {a-b}')\n",
    "elif oper == '*':\n",
    "    print(f'{a} * {b} = {a*b}')\n",
    "elif oper == '/':\n",
    "    if b != 0:\n",
    "        print(f'{a} / {b} = {a/b}')\n",
    "    else:\n",
    "        print('cannot divide a number by 0')\n",
    "elif oper == '//':\n",
    "    print(f'{a} // {b} = {a//b}')\n",
    "elif oper == '**':\n",
    "    print(f'{a} ** {b} = {a**b}')\n",
    "else:\n",
    "    print('invalid operation')\n"
   ]
  },
  {
   "cell_type": "code",
   "execution_count": 7,
   "metadata": {},
   "outputs": [
    {
     "name": "stdout",
     "output_type": "stream",
     "text": [
      "ticket price =  17\n"
     ]
    }
   ],
   "source": [
    "# determine ticket prize by age and student status\n",
    "age = int(input('enter age'))\n",
    "is_student = input('are u student(yes/no)').lower()\n",
    "\n",
    "if age < 5:\n",
    "    price = 'free'\n",
    "elif age <=12 :\n",
    "    price = '10'\n",
    "elif age <=17:\n",
    "    if is_student == 'yes':\n",
    "        price ='12'\n",
    "    else:\n",
    "        price = '15'\n",
    "elif age <=64:\n",
    "    if is_student == 'yes':\n",
    "        price ='17'\n",
    "    else:\n",
    "        price = '20'\n",
    "else:\n",
    "    price = '20'\n",
    "    \n",
    "print(\"ticket price = \", price)"
   ]
  },
  {
   "cell_type": "markdown",
   "metadata": {},
   "source": [
    "### Loops"
   ]
  },
  {
   "cell_type": "markdown",
   "metadata": {},
   "source": [
    "Types of loop\n",
    "- for\n",
    "- while\n",
    "\n",
    "Loop control statements\n",
    "- break: to exit the loop prematurely  \n",
    "- pass: null operation(it does nothing)\n",
    "- continue: skip current iteration and move to the next"
   ]
  },
  {
   "cell_type": "code",
   "execution_count": 8,
   "metadata": {},
   "outputs": [
    {
     "name": "stdout",
     "output_type": "stream",
     "text": [
      "0\n",
      "1\n",
      "2\n",
      "3\n",
      "4\n",
      "break is executed\n"
     ]
    }
   ],
   "source": [
    "for i in range(10):\n",
    "    if i == 5:\n",
    "        break\n",
    "    print(i)\n",
    "\n",
    "print('break is executed')"
   ]
  },
  {
   "cell_type": "code",
   "execution_count": 9,
   "metadata": {},
   "outputs": [
    {
     "name": "stdout",
     "output_type": "stream",
     "text": [
      "1\n",
      "3\n",
      "5\n",
      "7\n",
      "9\n"
     ]
    }
   ],
   "source": [
    "for i in range(10):\n",
    "    if i%2 == 0:\n",
    "        continue\n",
    "    print(i)"
   ]
  },
  {
   "cell_type": "code",
   "execution_count": 15,
   "metadata": {},
   "outputs": [
    {
     "name": "stdout",
     "output_type": "stream",
     "text": [
      "0\n",
      "1\n",
      "2\n",
      "3\n",
      "4\n",
      "5\n",
      "SIX\n",
      "6\n",
      "7\n",
      "8\n",
      "9\n"
     ]
    }
   ],
   "source": [
    "for i in range(10):\n",
    "    if i == 6:\n",
    "        print('SIX')\n",
    "        pass\n",
    "    print(i)"
   ]
  },
  {
   "cell_type": "code",
   "execution_count": 16,
   "metadata": {},
   "outputs": [
    {
     "name": "stdout",
     "output_type": "stream",
     "text": [
      "i=0   j=0\n",
      "i=0   j=1\n",
      "i=0   j=2\n",
      "i=0   j=3\n",
      "i=0   j=4\n",
      "i=1   j=0\n",
      "i=1   j=1\n",
      "i=1   j=2\n",
      "i=1   j=3\n",
      "i=1   j=4\n",
      "i=2   j=0\n",
      "i=2   j=1\n",
      "i=2   j=2\n",
      "i=2   j=3\n",
      "i=2   j=4\n",
      "i=3   j=0\n",
      "i=3   j=1\n",
      "i=3   j=2\n",
      "i=3   j=3\n",
      "i=3   j=4\n",
      "i=4   j=0\n",
      "i=4   j=1\n",
      "i=4   j=2\n",
      "i=4   j=3\n",
      "i=4   j=4\n"
     ]
    }
   ],
   "source": [
    "for i in range(5):\n",
    "    for j in range(5):\n",
    "        print(f'i={i}   j={j}')"
   ]
  },
  {
   "cell_type": "code",
   "execution_count": 17,
   "metadata": {},
   "outputs": [
    {
     "name": "stdout",
     "output_type": "stream",
     "text": [
      "sum using while loop=  55\n",
      "sum using for loop=  55\n"
     ]
    }
   ],
   "source": [
    "# sum of first n natural numbers using loops\n",
    "\n",
    "n = 10\n",
    "sum =0\n",
    "count =1\n",
    "while count <=n:\n",
    "    sum += count\n",
    "    count += 1\n",
    "\n",
    "print('sum using while loop= ', sum)\n",
    "\n",
    "sum = 0\n",
    "for i in range(n+1):\n",
    "    sum += i\n",
    "    \n",
    "print('sum using for loop= ', sum)"
   ]
  },
  {
   "cell_type": "code",
   "execution_count": 18,
   "metadata": {},
   "outputs": [
    {
     "name": "stdout",
     "output_type": "stream",
     "text": [
      "2\n",
      "3\n",
      "5\n",
      "7\n",
      "11\n",
      "13\n",
      "17\n",
      "19\n",
      "23\n",
      "29\n",
      "31\n",
      "37\n",
      "41\n",
      "43\n",
      "47\n",
      "53\n",
      "59\n",
      "61\n",
      "67\n",
      "71\n",
      "73\n",
      "79\n",
      "83\n",
      "89\n",
      "97\n"
     ]
    }
   ],
   "source": [
    "#prime numbers bw 1 to 100\n",
    "\n",
    "for i in range(1, 101):\n",
    "    if i>1:\n",
    "        for j in range(2,i):\n",
    "            if i%j == 0:\n",
    "                break\n",
    "        else:\n",
    "            print(i)"
   ]
  }
 ],
 "metadata": {
  "kernelspec": {
   "display_name": "Python 3",
   "language": "python",
   "name": "python3"
  },
  "language_info": {
   "codemirror_mode": {
    "name": "ipython",
    "version": 3
   },
   "file_extension": ".py",
   "mimetype": "text/x-python",
   "name": "python",
   "nbconvert_exporter": "python",
   "pygments_lexer": "ipython3",
   "version": "3.12.0"
  }
 },
 "nbformat": 4,
 "nbformat_minor": 2
}
